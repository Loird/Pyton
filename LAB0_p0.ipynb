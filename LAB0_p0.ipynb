{
  "cells": [
    {
      "cell_type": "markdown",
      "metadata": {
        "id": "-mlWS2e5n3ug"
      },
      "source": [
        "**ML COURSE 2024-2025**\n",
        "# LAB0: PYTHON INTRODUCTION\n",
        "**PART 0**"
      ]
    },
    {
      "cell_type": "markdown",
      "metadata": {
        "id": "yaT6IFE3n3um"
      },
      "source": [
        "#### Summary\n",
        "- **Part 0**: Python, variables, conditions, loops, functions and classes\n",
        "- **Part 1**: Data Structures, libraries, Colab"
      ]
    },
    {
      "cell_type": "markdown",
      "metadata": {
        "id": "sGvH0F3Tn3un"
      },
      "source": [
        "## Python"
      ]
    },
    {
      "cell_type": "markdown",
      "metadata": {
        "id": "e4PZFtS3n3un"
      },
      "source": [
        "- What is it? A *programming language* (like Java)\n",
        "- Why?\n",
        "    1. Clear and intuitive\n",
        "    2. Supports many Machine Learning and data analysis libraries (pre-written code snippets)\n",
        "    3. Open-source\n",
        "    4. Very active community"
      ]
    },
    {
      "cell_type": "markdown",
      "metadata": {
        "id": "APF4f_Qen3uo"
      },
      "source": [
        "## Jupyter Notebook (.ipynb) vs Python Script (.py)"
      ]
    },
    {
      "cell_type": "markdown",
      "metadata": {
        "id": "q60xrHsfn3uo"
      },
      "source": [
        "| 📌 | **Jupyter Notebook** | **Python Script (.py)** |\n",
        "|----|---------------------|---------------------|\n",
        "| ✍ **Format** | Contains code blocks + text blocks | Contains only code (but can have comments)|\n",
        "| ⚡ **Execution** | One block at a time | All code at once |\n",
        "| 📚 **Used for** | Study, experiments, data analysis | Complete programs|\n",
        "| 🎨 **Interactivity** | High (you can see results immediately) | Low (you must run everything together) |"
      ]
    },
    {
      "cell_type": "markdown",
      "metadata": {
        "id": "L5XfIV8Wn3uo"
      },
      "source": [
        "## Google Colab"
      ]
    },
    {
      "cell_type": "markdown",
      "metadata": {
        "id": "YSBfR77on3up"
      },
      "source": [
        "- What is Google Colab? Execution environment for Jupyter Notebooks\n",
        "- Why?\n",
        "    - Cloud: no need to install anything locally\n",
        "    - Free\n",
        "    - Good computing power"
      ]
    },
    {
      "cell_type": "markdown",
      "metadata": {
        "id": "GJSrtxucn3up"
      },
      "source": [
        "### Access Colab\n",
        "\n",
        "Connect to the link: [https://colab.research.google.com/](https://colab.research.google.com/)\n",
        "\n",
        "You should log in with your Google account to be able to execute cells and access Google Drive."
      ]
    },
    {
      "cell_type": "markdown",
      "metadata": {
        "id": "h-H0lQVLn3uq"
      },
      "source": [
        "You can create a new notebook or use git to import an existing one from our [repository](https://github.com/AMCO-UniPD/ML_lab_DEI_public).\n",
        "\n",
        "\n",
        "Click on GitHub\n",
        "\n",
        "![image.png](attachment:image.png)"
      ]
    },
    {
      "cell_type": "markdown",
      "metadata": {
        "id": "TPrvFGCMn3uq"
      },
      "source": [
        "You can paste the link of the repository and open the notebook you want to use by clicking on the open icon.\n",
        "\n",
        "![image.png](attachment:image.png)\n",
        "\n",
        "Now we can look at the notebook and execute cells if we log in with our Google account."
      ]
    },
    {
      "cell_type": "markdown",
      "metadata": {
        "id": "taARav1dn3uq"
      },
      "source": [
        "### File Management in Google Colab\n",
        "\n",
        "Colab allows you to upload files from your local machine, save them, and download them.\n",
        "\n",
        "Additionally, it is possible to mount Google Drive to access the files stored there.\n",
        "\n",
        "By clicking on the folder icon, we can manage the files.\n",
        "![image.png](attachment:image.png)"
      ]
    },
    {
      "cell_type": "markdown",
      "metadata": {
        "id": "b7_tp7f1n3uq"
      },
      "source": [
        "There are already some sample files inside the `sample_data` folder, but we can click on the icon with the drive symbol to mount our Google Drive.\n",
        "\n",
        "The `drive` folder will then appear.\n",
        "\n",
        "![image.png](attachment:image.png)"
      ]
    },
    {
      "cell_type": "markdown",
      "metadata": {
        "id": "bd5ToGa1n3uq"
      },
      "source": [
        "- I can use a file located in my drive.\n",
        "- I can upload a file by dragging it into the folder I created with the example name: `AA24-25ML`\n",
        "\n",
        "![image.png](attachment:image.png)"
      ]
    },
    {
      "cell_type": "markdown",
      "metadata": {
        "id": "3wCP-2crn3ur"
      },
      "source": [
        "## Variables and Basic Operations"
      ]
    },
    {
      "cell_type": "markdown",
      "metadata": {
        "id": "IPsTb5FFn3ur"
      },
      "source": [
        "A variable is a data container located in a specific portion of the memory."
      ]
    },
    {
      "cell_type": "markdown",
      "metadata": {
        "id": "lz5Xb7lKn3ur"
      },
      "source": [
        "### Variable Assignment"
      ]
    },
    {
      "cell_type": "code",
      "execution_count": null,
      "metadata": {
        "id": "zCmyydPnn3ur",
        "outputId": "4bf40830-8755-4a27-9dad-592a37c9acc4"
      },
      "outputs": [
        {
          "name": "stdout",
          "output_type": "stream",
          "text": [
            "hello\n",
            "<class 'int'>\n"
          ]
        }
      ],
      "source": [
        "# Assignment: define the variable name and its value\n",
        "# Note: we don't need to specify the type of the variable, Python does it for us\n",
        "x = 10              # integer number (int)\n",
        "y = 3.14            # floating-point number (float)\n",
        "z = \"hello\"         # string (str)\n",
        "w = True            # boolean value (bool)\n",
        "j = x               # assign j the same value as x. Note: if x changes after assigning j, j will not change\n",
        "\n",
        "\n",
        "# print the value of the variables\n",
        "print(z)\n",
        "\n",
        "# to see the type of the variable, you can use the type() function\n",
        "print(type(x))      # print the type of x"
      ]
    },
    {
      "cell_type": "markdown",
      "metadata": {
        "id": "FwZL3Actn3ut"
      },
      "source": [
        "### Operations with variables"
      ]
    },
    {
      "cell_type": "code",
      "execution_count": null,
      "metadata": {
        "id": "joNhHXaBn3uu"
      },
      "outputs": [],
      "source": [
        "# Mathematical operations (with numeric variables, int or float)\n",
        "sum = x + y\n",
        "difference = x - y\n",
        "product = x * y\n",
        "division = x / y\n",
        "integer_division = x // y\n",
        "modulo = x % y                          # remainder of integer division\n",
        "power = x ** y                          # exponentiation (x to the power of y)\n",
        "\n",
        "# String operations\n",
        "concatenated_string = z + \" world\"      # string concatenation\n",
        "repeated_string = z * 3                 # string repetition (z repeated 3 times)\n",
        "\n",
        "# Mixed operations are NOT possible\n",
        "# mixed_sum = x + z                     # ERROR! Cannot add a number and a string\n",
        "\n",
        "# Conversion between types\n",
        "x_str = str(x)                          # convert a number to a string\n",
        "\n",
        "# Logical operations (with boolean variables)\n",
        "not_w = not w                           # logical NOT\n",
        "and_w = w and True                      # logical AND\n",
        "or_w = w or and_w                       # logical OR\n",
        "\n",
        "# Comparison operations (with numeric variables)\n",
        "equal = x == y                          # equality\n",
        "not_equal = x != y                      # inequality\n",
        "less_than = x < y                       # less than\n",
        "greater_equal = x >= y                  # greater than or equal"
      ]
    },
    {
      "cell_type": "markdown",
      "metadata": {
        "id": "Xnx1fcwAn3uu"
      },
      "source": [
        "<span style=\"color:red\"><strong>🏋️‍♀️ Exercise</strong></span>\n",
        "1. Define a variable that stores the result of the comparison: is x less than or equal to y?\n",
        "2. Print the value of the variable."
      ]
    },
    {
      "cell_type": "markdown",
      "metadata": {
        "id": "zzR-rpw_n3uu"
      },
      "source": [
        "## Conditional Statements (IF, ELSE, ELIF)"
      ]
    },
    {
      "cell_type": "markdown",
      "metadata": {
        "id": "IQ8QlhkXn3uu"
      },
      "source": [
        "Used to execute pieces of code only if a certain condition is met."
      ]
    },
    {
      "cell_type": "code",
      "execution_count": null,
      "metadata": {
        "id": "BrbF5eWkn3uu",
        "outputId": "0ec292dd-da06-409f-9478-02ebd742a4f4"
      },
      "outputs": [
        {
          "name": "stdout",
          "output_type": "stream",
          "text": [
            "x is greater than y\n",
            "x is greater than y\n",
            "x is greater than y\n"
          ]
        }
      ],
      "source": [
        "# if statement\n",
        "if x > y:\n",
        "    print(\"x is greater than y\")\n",
        "\n",
        "# if-else statement\n",
        "if x > y:\n",
        "    print(\"x is greater than y\")\n",
        "else:\n",
        "    print(\"x is not greater than y\")\n",
        "\n",
        "# if-elif-else statement (you can add as many elifs as needed)\n",
        "if x > y:\n",
        "    print(\"x is greater than y\")\n",
        "elif x < y:\n",
        "    print(\"x is less than y\")\n",
        "else:\n",
        "    print(\"x is equal to y\")"
      ]
    },
    {
      "cell_type": "code",
      "execution_count": null,
      "metadata": {
        "id": "QwCTu6r8n3uv",
        "outputId": "be276b8b-989f-4012-dad7-b414db67a926"
      },
      "outputs": [
        {
          "name": "stdout",
          "output_type": "stream",
          "text": [
            "x is greater than y and z is equal to hello\n",
            "x is greater than y or z is equal to hello\n",
            "x is not less than y\n"
          ]
        }
      ],
      "source": [
        "# you can build more complex conditions\n",
        "if x > y and z == \"hello\":\n",
        "    print(\"x is greater than y and z is equal to hello\")\n",
        "\n",
        "if x > y or z == \"hello\":\n",
        "    print(\"x is greater than y or z is equal to hello\")\n",
        "\n",
        "if not (x < y):\n",
        "    print(\"x is not less than y\")"
      ]
    },
    {
      "cell_type": "markdown",
      "metadata": {
        "id": "_MRf1jJ3n3uv"
      },
      "source": [
        "<div style=\"background-color: lightblue; padding: 10px; color: black\">\n",
        "    <strong> ⚠️ Warning! </strong> Python relies on <strong> indentation</strong> . It is not like Jave: no curly braces <code>{}</code>, uses <code>:</code> instead. No need to write <code>;</code> at the end of each line.\n",
        "</div>\n",
        "\n",
        "\n",
        "Writing something like this would cause an error:\n",
        "```python\n",
        "if x == 10:\n",
        "print(\"x is 10\")\n",
        "```\n",
        "\n",
        "With the correct indentation:\n",
        "```python\n",
        "if x == 10:\n",
        "    print(\"x is 10\")\n",
        "```"
      ]
    },
    {
      "cell_type": "markdown",
      "metadata": {
        "id": "1mlSWdwQn3uv"
      },
      "source": [
        "## Loops (iterations)"
      ]
    },
    {
      "cell_type": "markdown",
      "metadata": {
        "id": "ujDYf3wrn3uv"
      },
      "source": [
        "Loops are structures -blocks of code- that allow you to repeatedly execute a sequence of intructions.  \n",
        "\n",
        "Two types of loops:  \n",
        "1. ```for``` loop: executes a block of intructions n times (used when you know in advance how many times to repeat an operation).\n",
        "2. ```while``` loop: executes a block until a condition is true.\n"
      ]
    },
    {
      "cell_type": "code",
      "execution_count": null,
      "metadata": {
        "id": "El6MTpLFn3uv",
        "outputId": "b82eef04-bd2e-4eec-a617-afccc73ca9b9"
      },
      "outputs": [
        {
          "name": "stdout",
          "output_type": "stream",
          "text": [
            "1\n",
            "2\n",
            "3\n",
            "4\n",
            "5\n",
            "\n",
            "\n",
            "1\n",
            "2\n",
            "3\n",
            "4\n",
            "5\n"
          ]
        }
      ],
      "source": [
        "# FOR LOOP\n",
        "# Example: you need to print numbers from 1 to 5. You could do this manually, but it's cumbersome and repetitive:\n",
        "print(1)\n",
        "print(2)\n",
        "print(3)\n",
        "print(4)\n",
        "print(5)\n",
        "print(\"\\n\")    # insert a line break (\"\\n\" is a special character representing the command \"new line\")\n",
        "\n",
        "# A better approach is to use a for loop:\n",
        "for i in range(1, 6):\n",
        "    print(i)"
      ]
    },
    {
      "cell_type": "code",
      "execution_count": null,
      "metadata": {
        "id": "uwp7_EI4n3uw",
        "outputId": "cd73bb0d-c56a-4d69-da72-0f6443353fa5"
      },
      "outputs": [
        {
          "name": "stdout",
          "output_type": "stream",
          "text": [
            "The first multiple of 7 greater than or equal to 50 is 56\n"
          ]
        }
      ],
      "source": [
        "# WHILE LOOP\n",
        "# Example: you need to find the first multiple of 7 greater than or equal to 50.\n",
        "num = 50\n",
        "while num % 7 != 0:\n",
        "    num += 1\n",
        "print(\"The first multiple of 7 greater than or equal to 50 is\", num)"
      ]
    },
    {
      "cell_type": "markdown",
      "metadata": {
        "id": "zPUzsoXtn3uw"
      },
      "source": [
        "<span style=\"color:red\"><strong>🏋️‍♀️ Exercise</strong></span>\n",
        "1. Print numbers from 1 to 10, but only even ones. Use a for loop and an if statement.\n",
        "2. With a while loop, start from 100 and divide in half (/2) the number until it becomes less than 10. Print the number at each interaction.\n",
        "3. You want to doubling (*2) a number until it exceeds 1000. Should you use a for loop or a while loop?"
      ]
    },
    {
      "cell_type": "markdown",
      "metadata": {
        "id": "pDN_Md2Ln3uw"
      },
      "source": [
        "## Functions"
      ]
    },
    {
      "cell_type": "markdown",
      "metadata": {
        "id": "uNLgOipJn3uw"
      },
      "source": [
        "A function is a reusable block of code that takes input data (parameters), performs some operations and returns a result.\n",
        "\n",
        "Functions in Python are like \"methods\" in Java, but they can be defined withouth classes.\n",
        "\n",
        "Functions can:\n",
        "- return a value (using the command `return`)\n",
        "- perform actions withouth returning anything"
      ]
    },
    {
      "cell_type": "code",
      "execution_count": null,
      "metadata": {
        "id": "6khw7Hean3uw",
        "outputId": "f3f3d29a-79b9-4ae2-dd7a-1286340e73a8"
      },
      "outputs": [
        {
          "name": "stdout",
          "output_type": "stream",
          "text": [
            "15.0\n"
          ]
        }
      ],
      "source": [
        "# define a function (note the \":\" and the indentation)\n",
        "def my_function(x, y):\n",
        "    s = x + y\n",
        "    d = s / 2\n",
        "    return d\n",
        "\n",
        "# call a function\n",
        "v = 20\n",
        "result = my_function(10, v)\n",
        "print(result)"
      ]
    },
    {
      "cell_type": "code",
      "execution_count": null,
      "metadata": {
        "id": "21kUV2Rzn3ux"
      },
      "outputs": [],
      "source": [
        "# function that does not return anything\n",
        "def my_second_function(x, y):\n",
        "    s = x + y\n",
        "    print(s)"
      ]
    },
    {
      "cell_type": "markdown",
      "metadata": {
        "id": "C9EpoSV_n3ux"
      },
      "source": [
        "<div style=\"background-color: lightblue; padding: 10px; color: black\">\n",
        "    <strong> ⚠️ Warning! </strong>  Int, float, str and bool are immutable types. This means that if you pass them to a function, Python creates a copy of the original value and does not modify the original value. Later in the course, we will see other types that are mutable.\n",
        "</div>"
      ]
    },
    {
      "cell_type": "code",
      "execution_count": null,
      "metadata": {
        "id": "C5vlXBNen3ux",
        "outputId": "ba8563ae-b154-4c4f-a86b-6d113dee44ee"
      },
      "outputs": [
        {
          "name": "stdout",
          "output_type": "stream",
          "text": [
            "x: 10\n",
            "x: 20\n"
          ]
        }
      ],
      "source": [
        "def add_ten(number):\n",
        "    number = number + 10\n",
        "\n",
        "x = 10\n",
        "add_ten(x)\n",
        "print('x:', x)          # x remains 10\n",
        "\n",
        "# to modify the value of x, the function must return the modified value and you have to assign it to x\n",
        "def add_ten_2(number):\n",
        "    number = number + 10\n",
        "    return number\n",
        "\n",
        "x = 10\n",
        "x = add_ten_2(x)\n",
        "print('x:', x)          # x becomes 20\n",
        "\n",
        "# Note: you can't assign the return value of a function that does not return anything.\n",
        "# x = add_ten(x)        # ERROR! add_ten does not return anything"
      ]
    },
    {
      "cell_type": "markdown",
      "metadata": {
        "id": "0ArUJwJIn3uy"
      },
      "source": [
        "## Classes"
      ]
    },
    {
      "cell_type": "markdown",
      "metadata": {
        "id": "E34zVxAIn3uy"
      },
      "source": [
        "A class is a container that groups variables and functions in a **reusable** way.\n",
        "\n",
        "Example: suppose we need to manage bank customers (name, surname, IBAN, account balance). We have 2 options:\n",
        "- define each customer's name, surname, IBAN and balance individually. This would require a lot of time and a lot of redundant code!\n",
        "- create a generic model (**class**) for a customer from which each specific customer can be derived. Every customer created using the class is called an **object**.\n",
        "\n",
        "In a class:\n",
        "- variables are called **attributes**\n",
        "- functions are called **methods**"
      ]
    },
    {
      "cell_type": "markdown",
      "metadata": {
        "id": "v5ZtRSSXn3u3"
      },
      "source": [
        "### Define a class"
      ]
    },
    {
      "cell_type": "markdown",
      "metadata": {
        "id": "-AaMPjurn3u3"
      },
      "source": [
        "```python\n",
        "class ClassName:\n",
        "    ...\n",
        "```\n",
        "\n",
        "**The `__init__()` method**  \n",
        "This is the constructor. It initializes objects (customers!) and it is essential for creating them. You almost always need to define it.\n",
        "```python\n",
        "class ClassName:\n",
        "    def __init__(self, parameter1, parameter2):\n",
        "        ...\n",
        "```\n",
        "\n",
        "**The self parameter**  \n",
        "Whenever we create a method in a class, we must include `self` as the *first* parameter, inside the parentheses.  \n",
        "It represents the object of the class that is calling the method. It allows the method to access and modify attributes of that specific object.  \n",
        "Withouth `self`, the method wouldn't know which object it should work with."
      ]
    },
    {
      "cell_type": "code",
      "execution_count": null,
      "metadata": {
        "id": "vD1WGYO3n3u3"
      },
      "outputs": [],
      "source": [
        "# define the \"BankCustomer\" class\n",
        "class BankCustomer:\n",
        "\n",
        "    # constructor. Note: \"self\" is the first parameter.\n",
        "    def __init__(self, name, surname, iban):\n",
        "        # define class attributes (variables associated with the object)\n",
        "        self.name = name\n",
        "        self.surname = surname\n",
        "        self.iban = iban\n",
        "        self.balance = 0\n",
        "\n",
        "    # other methods\n",
        "    def withdraw(self, amount):\n",
        "        if amount > self.balance:\n",
        "            print(\"Withdrawal denied: not enough money\")\n",
        "        else:\n",
        "            self.balance = self.balance - amount    # modify the \"balance\" attribute of the object self, the one that calls the method\n",
        "\n",
        "    def deposit(self, amount):\n",
        "        self.balance = self.balance + amount\n",
        "\n",
        "    def print_balance(self):\n",
        "        print(\"The balance of the account is:\", self.balance)\n",
        "\n",
        "    def get_balance(self):\n",
        "        return self.balance"
      ]
    },
    {
      "cell_type": "markdown",
      "metadata": {
        "id": "J_vALSe6n3u3"
      },
      "source": [
        "### Create an object from a class"
      ]
    },
    {
      "cell_type": "markdown",
      "metadata": {
        "id": "ierudpOrn3u3"
      },
      "source": [
        "Once a class is created, we can instantiate objects of that class and use them.  \n",
        "When calling the constructor or other methods, we do _not_ need to pass the `self` parameter."
      ]
    },
    {
      "cell_type": "code",
      "execution_count": null,
      "metadata": {
        "id": "E5u_8xhCn3u3",
        "outputId": "00b0727b-ad90-4b20-a5ef-8f1db3a18902"
      },
      "outputs": [
        {
          "name": "stdout",
          "output_type": "stream",
          "text": [
            "The balance of the account is: 800\n",
            "Withdrawal denied: not enough money\n",
            "The balance of the account is: 500\n",
            "The balance of the account of customer 2 is: 500\n",
            "Name of customer 1: Mario\n"
          ]
        }
      ],
      "source": [
        "# create two customers (objects)\n",
        "customer1 = BankCustomer(\"Mario\", \"Rossi\", \"IT001\")        # implicitly calls the constructor. I have to pass the parameters required by __init__()\n",
        "customer2 = BankCustomer(\"Luigi\", \"Verdi\", \"IT002\")\n",
        "\n",
        "# use the methods of the objects\n",
        "customer1.deposit(1000)\n",
        "customer1.withdraw(200)\n",
        "customer1.print_balance()\n",
        "\n",
        "customer2.deposit(500)\n",
        "customer2.withdraw(1000)\n",
        "customer2.print_balance()\n",
        "\n",
        "customer2_balance = customer2.get_balance()\n",
        "print(\"The balance of the account of customer 2 is:\", customer2_balance)\n",
        "\n",
        "# access the attributes of the objects\n",
        "print(\"Name of customer 1:\", customer1.name)"
      ]
    },
    {
      "cell_type": "markdown",
      "metadata": {
        "id": "orCtlRQ7n3u4"
      },
      "source": [
        "<span style=\"color:red\"><strong>🏋️‍♀️ Exercise</strong></span>  \n",
        "1. Create a class \"Vehicle\" with attributes: brand, model, year and max_speed. Add two methods:\n",
        "    - the first returns a string containing the vehicle description (all attributes).\n",
        "    - the second modifies the max speed to a value chosen by the user.\n",
        "2. Create an object from the class, print the description, change the maximum speed, print the description again.\n"
      ]
    }
  ],
  "metadata": {
    "kernelspec": {
      "display_name": "capsule",
      "language": "python",
      "name": "python3"
    },
    "language_info": {
      "codemirror_mode": {
        "name": "ipython",
        "version": 3
      },
      "file_extension": ".py",
      "mimetype": "text/x-python",
      "name": "python",
      "nbconvert_exporter": "python",
      "pygments_lexer": "ipython3",
      "version": "3.12.2"
    },
    "colab": {
      "provenance": []
    }
  },
  "nbformat": 4,
  "nbformat_minor": 0
}