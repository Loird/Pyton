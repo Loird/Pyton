{
  "cells": [
    {
      "cell_type": "markdown",
      "metadata": {
        "id": "bT552jpkpT8o"
      },
      "source": [
        "**CORSO ML 2024-2025**\n",
        "# LAB0: PYTHON INTRODUCTION\n",
        "**PART 1**"
      ]
    },
    {
      "cell_type": "markdown",
      "metadata": {
        "id": "dg61QnoWpT8q"
      },
      "source": [
        "#### Summary\n",
        "- **PART 0**: Python, variables, conditionals, loops, functions, classes\n",
        "- **PART 1**: Colab and libraries"
      ]
    },
    {
      "cell_type": "markdown",
      "metadata": {
        "id": "0jheQ7GYpT8r"
      },
      "source": [
        "## Google Colab"
      ]
    },
    {
      "cell_type": "markdown",
      "metadata": {
        "id": "LMY09Tk_pT8r"
      },
      "source": [
        "- What is Google Colab? Execution environment for Jupyter Notebooks\n",
        "- Why?\n",
        "    - Cloud: no need to install anything locally\n",
        "    - Free\n",
        "    - Good computing power"
      ]
    },
    {
      "cell_type": "markdown",
      "metadata": {
        "id": "LJJOcw6WpT8s"
      },
      "source": [
        "### Access Colab\n",
        "\n",
        "Connect to the link: [https://colab.research.google.com/](https://colab.research.google.com/)"
      ]
    },
    {
      "cell_type": "markdown",
      "metadata": {
        "id": "9XwATo-qpT8s"
      },
      "source": [
        "Click on \"Upload\" to upload the notebook\n",
        "![image.png](attachment:image.png)"
      ]
    },
    {
      "cell_type": "markdown",
      "metadata": {
        "id": "FYC7d_i3pT8s"
      },
      "source": [
        "We can immediately start writing Python code and executing the cells\n",
        "![image.png](attachment:image.png)"
      ]
    },
    {
      "cell_type": "markdown",
      "metadata": {
        "id": "mnkCsVWPpT8s"
      },
      "source": [
        "### File Management in Google Colab\n",
        "\n",
        "Colab allows you to upload files from your local machine, save them, and download them.\n",
        "\n",
        "Additionally, it is possible to mount Google Drive to access the files stored there.\n",
        "\n",
        "By clicking on the folder icon, we can manage the files.\n",
        "![image.png](attachment:image.png)"
      ]
    },
    {
      "cell_type": "markdown",
      "metadata": {
        "id": "xZQ0ENbspT8t"
      },
      "source": [
        "There are already some sample files inside the `sample_data` folder, but we can click on the icon with the drive symbol to mount our Google Drive.\n",
        "\n",
        "The `drive` folder will then appear.\n",
        "\n",
        "![image.png](attachment:image.png)"
      ]
    },
    {
      "cell_type": "markdown",
      "metadata": {
        "id": "U1AX7ymVpT8t"
      },
      "source": [
        "- I can use a file located in my drive.\n",
        "- I can upload a file by dragging it into the folder I created with the example name: `AA24-25ML`\n",
        "![image-2.png](attachment:image-2.png)"
      ]
    },
    {
      "cell_type": "markdown",
      "metadata": {
        "id": "FrCYO1gWpT8t"
      },
      "source": [
        "Once the file is uploaded, I can then execute the following cells, which will import the file into my notebook for use."
      ]
    },
    {
      "cell_type": "markdown",
      "metadata": {
        "id": "ZBB9YX5ipT8t"
      },
      "source": [
        "<span style=\"color:red\"><strong>🏋️‍♀️ Exercise</strong></span>\n",
        "\n",
        "**If you are on Google Colab:**\n",
        "1. Mount Google Drive\n",
        "2. Create a folder named `AA24-25ML` inside the `My Drive` folder which is inside the `drive` folder\n",
        "3. Upload the `titanic.csv` file into the `AA24-25ML` folder\n",
        "4. Execute the cell below to import the file\n",
        "\n",
        "\n",
        "**If you are NOT on Google Colab**\n",
        "1. Execute the cell below, it will create the folders for you\n",
        "2. Place the `titanic.csv` file inside the `AA24-25ML` folder"
      ]
    },
    {
      "cell_type": "code",
      "execution_count": null,
      "metadata": {
        "id": "Sz2ffOWIpT8u",
        "outputId": "e65afb6b-e7d0-4e1c-ab5f-9c8fd17d6c09"
      },
      "outputs": [
        {
          "name": "stdout",
          "output_type": "stream",
          "text": [
            "Path: drive/MyDrive/AA24-25ML/titanic.csv\n"
          ]
        }
      ],
      "source": [
        "# Import the library for path management\n",
        "# (we will see libraries in detail in the next section)\n",
        "from pathlib import Path\n",
        "\n",
        "# Define the path and save it in the variable `p`\n",
        "p = Path(\"drive\", \"MyDrive\", \"AA24-25ML\", \"titanic.csv\")\n",
        "\n",
        "# Create the folders if they do not exist\n",
        "p.parent.mkdir(parents=True, exist_ok=True)\n",
        "\n",
        "# Print the path\n",
        "print(\"Path:\", p)"
      ]
    },
    {
      "cell_type": "markdown",
      "metadata": {
        "id": "LDs1S4DUpT8v"
      },
      "source": [
        "If you have done everything correctly, the file should exist. Let's verify by executing the following cell."
      ]
    },
    {
      "cell_type": "code",
      "execution_count": null,
      "metadata": {
        "id": "asCcpv0ipT8v",
        "outputId": "0496f056-eebe-4517-e08d-cb82e1535767"
      },
      "outputs": [
        {
          "name": "stdout",
          "output_type": "stream",
          "text": [
            "The file exists 😁\n"
          ]
        }
      ],
      "source": [
        "# Let's verify if the file exists with a conditional statement we have seen before\n",
        "if p.exists():\n",
        "    print(\"The file exists 😁\")\n",
        "else:\n",
        "    print(\"The file does not exist 😢\")"
      ]
    },
    {
      "cell_type": "markdown",
      "metadata": {
        "id": "wmnjWrFfpT8v"
      },
      "source": [
        "<div style=\"background-color: black; padding: 10px; color: white\">\n",
        "    <strong> ⚠️ Warning! </strong> If the file is not found, it could be one of the following reasons:\n",
        "    \n",
        "- You have named the folders incorrectly\n",
        "\n",
        "- You are working in the wrong folder, you need to do everything in the notebook's folder. To see the path where this notebook is located, run the cell below.\n",
        "</div>"
      ]
    },
    {
      "cell_type": "code",
      "execution_count": null,
      "metadata": {
        "id": "HOTK9pLnpT8v"
      },
      "outputs": [],
      "source": [
        "# ⚠️ For those who cannot find the file: run this cell\n",
        "# This is the path where the current notebook is located, where the folders and file should be found\n",
        "if not p.exists():\n",
        "    print(\"Your notebook is located here:\", Path.cwd())"
      ]
    },
    {
      "cell_type": "code",
      "execution_count": null,
      "metadata": {
        "id": "6ab7TFQypT8w"
      },
      "outputs": [],
      "source": [
        "# ⚠️ If it still doesn't work, run this cell to create the file by downloading it from the internet\n",
        "if not p.exists():\n",
        "    import pandas as pd\n",
        "    df = pd.read_csv(\"https://raw.githubusercontent.com/datasciencedojo/datasets/master/titanic.csv\")\n",
        "    df.to_csv(p, index=False)"
      ]
    },
    {
      "cell_type": "markdown",
      "metadata": {
        "id": "Ba3XR_qHpT8w"
      },
      "source": [
        "**Perché vorremmo usare un file?**\n",
        "\n",
        "Perché questo file potrebbe contenere un dataset che vogliamo usare per fare analisi dati, oppure usare questi dati per allenare un modello."
      ]
    },
    {
      "cell_type": "markdown",
      "metadata": {
        "id": "fAviO70upT8w"
      },
      "source": [
        "## Libraries\n",
        "\n",
        "Libraries are convenient because they make our lives easier; skilled programmers have already written good code that we can reuse.\n",
        "\n",
        "It is better to use existing libraries rather than writing everything from scratch!\n",
        "\n",
        "We don't need to reinvent the wheel!\n",
        "\n",
        "- To import a library, we use the keyword `import`.\n",
        "- If we want to import a specific functionality, we can select it with `from`.\n",
        "- Additionally, if the library name is a bit long, we can rename it with `as`."
      ]
    },
    {
      "cell_type": "markdown",
      "metadata": {
        "id": "YoKTwuA5pT8w"
      },
      "source": [
        "Let's make some examples with the `numpy` library, a classic library for scientific computing in Python.\n",
        "\n",
        "> **Simply import**\n",
        "> ```python\n",
        "> import numpy\n",
        "> ```\n",
        "\n",
        "> **Import a specific functionality**\n",
        ">\n",
        "> Maybe I only use a couple of functions from a library, in that case, we could import those specific ones.\n",
        ">\n",
        "> ```python\n",
        "> from numpy import array, mean\n",
        "> ```\n",
        "\n",
        "> **Import with an alias**\n",
        ">\n",
        "> Writing `numpy` every time is a bit long, we can rename the library with an alias.\n",
        ">\n",
        "> ```python\n",
        "> import numpy as np\n",
        "> ```"
      ]
    },
    {
      "cell_type": "markdown",
      "metadata": {
        "id": "TrQwckMppT8w"
      },
      "source": [
        "**How do I know what functionalities are available in a library?**\n",
        "\n",
        "→ I look in the official documentation: for example, [numpy](https://numpy.org/doc/stable/)\n"
      ]
    },
    {
      "cell_type": "markdown",
      "metadata": {
        "id": "E2bzh8mspT8x"
      },
      "source": [
        "### Library Examples"
      ]
    },
    {
      "cell_type": "markdown",
      "metadata": {
        "id": "Yuf6badApT8x"
      },
      "source": [
        "#### Pandas 🐼: like Excel, but in Python\n",
        "\n",
        "[Link to the official documentation](https://pandas.pydata.org/docs/)\n",
        "\n",
        "We can manipulate data in tabular format:\n",
        "- Filter: select rows based on conditions\n",
        "- Aggregate: calculate statistics\n",
        "\n",
        "File management:\n",
        "- It allows us to load CSV files, which is a tabular format similar to a spreadsheet.\n",
        "- Besides loading data, we can also save them in a CSV file: useful for saving our results."
      ]
    },
    {
      "cell_type": "code",
      "execution_count": null,
      "metadata": {
        "id": "XOaiZiaWpT8x"
      },
      "outputs": [],
      "source": [
        "# First, let's import pandas, usually with the alias `pd` for convenience\n",
        "import pandas as pd\n",
        "\n",
        "# Read the Titanic .csv file 🚢\n",
        "dataset = pd.read_csv(p)"
      ]
    },
    {
      "cell_type": "markdown",
      "metadata": {
        "id": "j5TVb13HpT8y"
      },
      "source": [
        "Let's visualize the dataset as a table, we can use the `head()` method to see the first rows."
      ]
    },
    {
      "cell_type": "code",
      "execution_count": null,
      "metadata": {
        "id": "7xrpekeEpT8y",
        "outputId": "33b4a34e-c63c-4b97-f8d8-beafe4c12375"
      },
      "outputs": [
        {
          "data": {
            "application/vnd.microsoft.datawrangler.viewer.v0+json": {
              "columns": [
                {
                  "name": "index",
                  "rawType": "int64",
                  "type": "integer"
                },
                {
                  "name": "PassengerId",
                  "rawType": "int64",
                  "type": "integer"
                },
                {
                  "name": "Survived",
                  "rawType": "int64",
                  "type": "integer"
                },
                {
                  "name": "Pclass",
                  "rawType": "int64",
                  "type": "integer"
                },
                {
                  "name": "Name",
                  "rawType": "object",
                  "type": "string"
                },
                {
                  "name": "Sex",
                  "rawType": "object",
                  "type": "string"
                },
                {
                  "name": "Age",
                  "rawType": "float64",
                  "type": "float"
                },
                {
                  "name": "SibSp",
                  "rawType": "int64",
                  "type": "integer"
                },
                {
                  "name": "Parch",
                  "rawType": "int64",
                  "type": "integer"
                },
                {
                  "name": "Ticket",
                  "rawType": "object",
                  "type": "string"
                },
                {
                  "name": "Fare",
                  "rawType": "float64",
                  "type": "float"
                },
                {
                  "name": "Cabin",
                  "rawType": "object",
                  "type": "unknown"
                },
                {
                  "name": "Embarked",
                  "rawType": "object",
                  "type": "string"
                }
              ],
              "conversionMethod": "pd.DataFrame",
              "ref": "4e8c7a01-d99b-4c99-9c81-7c81cb651efd",
              "rows": [
                [
                  "0",
                  "1",
                  "0",
                  "3",
                  "Braund, Mr. Owen Harris",
                  "male",
                  "22.0",
                  "1",
                  "0",
                  "A/5 21171",
                  "7.25",
                  null,
                  "S"
                ],
                [
                  "1",
                  "2",
                  "1",
                  "1",
                  "Cumings, Mrs. John Bradley (Florence Briggs Thayer)",
                  "female",
                  "38.0",
                  "1",
                  "0",
                  "PC 17599",
                  "71.2833",
                  "C85",
                  "C"
                ],
                [
                  "2",
                  "3",
                  "1",
                  "3",
                  "Heikkinen, Miss. Laina",
                  "female",
                  "26.0",
                  "0",
                  "0",
                  "STON/O2. 3101282",
                  "7.925",
                  null,
                  "S"
                ],
                [
                  "3",
                  "4",
                  "1",
                  "1",
                  "Futrelle, Mrs. Jacques Heath (Lily May Peel)",
                  "female",
                  "35.0",
                  "1",
                  "0",
                  "113803",
                  "53.1",
                  "C123",
                  "S"
                ],
                [
                  "4",
                  "5",
                  "0",
                  "3",
                  "Allen, Mr. William Henry",
                  "male",
                  "35.0",
                  "0",
                  "0",
                  "373450",
                  "8.05",
                  null,
                  "S"
                ]
              ],
              "shape": {
                "columns": 12,
                "rows": 5
              }
            },
            "text/html": [
              "<div>\n",
              "<style scoped>\n",
              "    .dataframe tbody tr th:only-of-type {\n",
              "        vertical-align: middle;\n",
              "    }\n",
              "\n",
              "    .dataframe tbody tr th {\n",
              "        vertical-align: top;\n",
              "    }\n",
              "\n",
              "    .dataframe thead th {\n",
              "        text-align: right;\n",
              "    }\n",
              "</style>\n",
              "<table border=\"1\" class=\"dataframe\">\n",
              "  <thead>\n",
              "    <tr style=\"text-align: right;\">\n",
              "      <th></th>\n",
              "      <th>PassengerId</th>\n",
              "      <th>Survived</th>\n",
              "      <th>Pclass</th>\n",
              "      <th>Name</th>\n",
              "      <th>Sex</th>\n",
              "      <th>Age</th>\n",
              "      <th>SibSp</th>\n",
              "      <th>Parch</th>\n",
              "      <th>Ticket</th>\n",
              "      <th>Fare</th>\n",
              "      <th>Cabin</th>\n",
              "      <th>Embarked</th>\n",
              "    </tr>\n",
              "  </thead>\n",
              "  <tbody>\n",
              "    <tr>\n",
              "      <th>0</th>\n",
              "      <td>1</td>\n",
              "      <td>0</td>\n",
              "      <td>3</td>\n",
              "      <td>Braund, Mr. Owen Harris</td>\n",
              "      <td>male</td>\n",
              "      <td>22.0</td>\n",
              "      <td>1</td>\n",
              "      <td>0</td>\n",
              "      <td>A/5 21171</td>\n",
              "      <td>7.2500</td>\n",
              "      <td>NaN</td>\n",
              "      <td>S</td>\n",
              "    </tr>\n",
              "    <tr>\n",
              "      <th>1</th>\n",
              "      <td>2</td>\n",
              "      <td>1</td>\n",
              "      <td>1</td>\n",
              "      <td>Cumings, Mrs. John Bradley (Florence Briggs Th...</td>\n",
              "      <td>female</td>\n",
              "      <td>38.0</td>\n",
              "      <td>1</td>\n",
              "      <td>0</td>\n",
              "      <td>PC 17599</td>\n",
              "      <td>71.2833</td>\n",
              "      <td>C85</td>\n",
              "      <td>C</td>\n",
              "    </tr>\n",
              "    <tr>\n",
              "      <th>2</th>\n",
              "      <td>3</td>\n",
              "      <td>1</td>\n",
              "      <td>3</td>\n",
              "      <td>Heikkinen, Miss. Laina</td>\n",
              "      <td>female</td>\n",
              "      <td>26.0</td>\n",
              "      <td>0</td>\n",
              "      <td>0</td>\n",
              "      <td>STON/O2. 3101282</td>\n",
              "      <td>7.9250</td>\n",
              "      <td>NaN</td>\n",
              "      <td>S</td>\n",
              "    </tr>\n",
              "    <tr>\n",
              "      <th>3</th>\n",
              "      <td>4</td>\n",
              "      <td>1</td>\n",
              "      <td>1</td>\n",
              "      <td>Futrelle, Mrs. Jacques Heath (Lily May Peel)</td>\n",
              "      <td>female</td>\n",
              "      <td>35.0</td>\n",
              "      <td>1</td>\n",
              "      <td>0</td>\n",
              "      <td>113803</td>\n",
              "      <td>53.1000</td>\n",
              "      <td>C123</td>\n",
              "      <td>S</td>\n",
              "    </tr>\n",
              "    <tr>\n",
              "      <th>4</th>\n",
              "      <td>5</td>\n",
              "      <td>0</td>\n",
              "      <td>3</td>\n",
              "      <td>Allen, Mr. William Henry</td>\n",
              "      <td>male</td>\n",
              "      <td>35.0</td>\n",
              "      <td>0</td>\n",
              "      <td>0</td>\n",
              "      <td>373450</td>\n",
              "      <td>8.0500</td>\n",
              "      <td>NaN</td>\n",
              "      <td>S</td>\n",
              "    </tr>\n",
              "  </tbody>\n",
              "</table>\n",
              "</div>"
            ],
            "text/plain": [
              "   PassengerId  Survived  Pclass  \\\n",
              "0            1         0       3   \n",
              "1            2         1       1   \n",
              "2            3         1       3   \n",
              "3            4         1       1   \n",
              "4            5         0       3   \n",
              "\n",
              "                                                Name     Sex   Age  SibSp  \\\n",
              "0                            Braund, Mr. Owen Harris    male  22.0      1   \n",
              "1  Cumings, Mrs. John Bradley (Florence Briggs Th...  female  38.0      1   \n",
              "2                             Heikkinen, Miss. Laina  female  26.0      0   \n",
              "3       Futrelle, Mrs. Jacques Heath (Lily May Peel)  female  35.0      1   \n",
              "4                           Allen, Mr. William Henry    male  35.0      0   \n",
              "\n",
              "   Parch            Ticket     Fare Cabin Embarked  \n",
              "0      0         A/5 21171   7.2500   NaN        S  \n",
              "1      0          PC 17599  71.2833   C85        C  \n",
              "2      0  STON/O2. 3101282   7.9250   NaN        S  \n",
              "3      0            113803  53.1000  C123        S  \n",
              "4      0            373450   8.0500   NaN        S  "
            ]
          },
          "execution_count": 6,
          "metadata": {},
          "output_type": "execute_result"
        }
      ],
      "source": [
        "dataset.head()"
      ]
    },
    {
      "cell_type": "markdown",
      "metadata": {
        "id": "fHbUmpvlpT8y"
      },
      "source": [
        "Che colonne ha la nostra tabella? Possiamo usare l'attributo `columns`."
      ]
    },
    {
      "cell_type": "code",
      "execution_count": null,
      "metadata": {
        "id": "y86SxmdVpT8z",
        "outputId": "f327d305-a06c-4f51-edb5-9f9a117ae227"
      },
      "outputs": [
        {
          "name": "stdout",
          "output_type": "stream",
          "text": [
            "Index(['PassengerId', 'Survived', 'Pclass', 'Name', 'Sex', 'Age', 'SibSp',\n",
            "       'Parch', 'Ticket', 'Fare', 'Cabin', 'Embarked'],\n",
            "      dtype='object')\n"
          ]
        }
      ],
      "source": [
        "print(dataset.columns)"
      ]
    },
    {
      "cell_type": "markdown",
      "metadata": {
        "id": "JQl2TEh2pT8z"
      },
      "source": [
        "**Counting**\n",
        "\n",
        "We can select only the rows that meet a certain condition.\n",
        "\n",
        "For example, how many women and how many men boarded?"
      ]
    },
    {
      "cell_type": "code",
      "execution_count": null,
      "metadata": {
        "id": "Jn8kwFi-pT8z",
        "outputId": "54f9f043-6d8c-446f-840d-21c50bdfa61c"
      },
      "outputs": [
        {
          "name": "stdout",
          "output_type": "stream",
          "text": [
            "0        male\n",
            "1      female\n",
            "2      female\n",
            "3      female\n",
            "4        male\n",
            "        ...  \n",
            "886      male\n",
            "887    female\n",
            "888    female\n",
            "889      male\n",
            "890      male\n",
            "Name: Sex, Length: 891, dtype: object\n"
          ]
        }
      ],
      "source": [
        "# Access the \"Sex\" column as if it were a dictionary\n",
        "print(dataset[\"Sex\"])"
      ]
    },
    {
      "cell_type": "code",
      "execution_count": null,
      "metadata": {
        "id": "oE2o_i9IpT8z",
        "outputId": "dbf4068c-d077-4101-c1ac-eddd45b9d15c"
      },
      "outputs": [
        {
          "data": {
            "text/plain": [
              "Sex\n",
              "male      577\n",
              "female    314\n",
              "Name: count, dtype: int64"
            ]
          },
          "execution_count": 9,
          "metadata": {},
          "output_type": "execute_result"
        }
      ],
      "source": [
        "dataset[\"Sex\"].value_counts()"
      ]
    },
    {
      "cell_type": "markdown",
      "metadata": {
        "id": "88YWnsBgpT8z"
      },
      "source": [
        "**Statistiche**\n",
        "\n",
        "Possiamo ad esempio calcolare l'età media dei passeggeri, o l'età massima."
      ]
    },
    {
      "cell_type": "code",
      "execution_count": null,
      "metadata": {
        "id": "7-7ngGhOpT8z",
        "outputId": "9157e88b-a6d9-41ec-ce65-fcd823ea437c"
      },
      "outputs": [
        {
          "name": "stdout",
          "output_type": "stream",
          "text": [
            "The average age is 29.70\n",
            "The maximum age is 80.0\n"
          ]
        }
      ],
      "source": [
        "average_age = dataset[\"Age\"].mean()\n",
        "max_age = dataset[\"Age\"].max()\n",
        "\n",
        "print(f\"The average age is {average_age:.2f}\") # pro tip: :.2f is used to print only 2 decimal places\n",
        "print(f\"The maximum age is {max_age}\")"
      ]
    },
    {
      "cell_type": "markdown",
      "metadata": {
        "id": "ypATvUDupT8z"
      },
      "source": [
        "**Filtering**\n",
        "\n",
        "We can select only the columns we are interested in.\n",
        "\n",
        "Example: among passengers over 30 years old, how many were men and how many were women?\n",
        "\n",
        "The age is in the `Age` column."
      ]
    },
    {
      "cell_type": "code",
      "execution_count": null,
      "metadata": {
        "id": "HGYw1WtlpT80",
        "outputId": "449f7b2b-d225-4d55-ea26-131abd5d8a76"
      },
      "outputs": [
        {
          "data": {
            "text/plain": [
              "Sex\n",
              "male      202\n",
              "female    103\n",
              "Name: count, dtype: int64"
            ]
          },
          "execution_count": 11,
          "metadata": {},
          "output_type": "execute_result"
        }
      ],
      "source": [
        "# Create a filter to select only rows with age greater than 30 years\n",
        "filter = dataset[\"Age\"] > 30\n",
        "\n",
        "# Apply the filter to the dataset\n",
        "filtered_dataset = dataset[filter]\n",
        "\n",
        "# Count the values of the column we are interested in\n",
        "filtered_dataset[\"Sex\"].value_counts()"
      ]
    },
    {
      "cell_type": "markdown",
      "metadata": {
        "id": "-8i7eNkEpT80"
      },
      "source": [
        "<span style=\"color:red\"><strong>🏋️‍♀️ Exercise</strong></span>\n",
        "\n",
        "Among the survivors (column `Survived`), show how many were men and how many were women.\n"
      ]
    },
    {
      "cell_type": "code",
      "execution_count": null,
      "metadata": {
        "id": "Em4V9dM1pT80"
      },
      "outputs": [],
      "source": [
        "# Develop your solution here\n"
      ]
    },
    {
      "cell_type": "markdown",
      "metadata": {
        "id": "R3eOiPYWpT80"
      },
      "source": [
        "#### NumPy 🔢: mathematics at your fingertips"
      ]
    },
    {
      "cell_type": "markdown",
      "metadata": {
        "id": "OtN1Jc1kpT80"
      },
      "source": [
        "[Link to the official documentation](https://numpy.org/doc/stable/)\n",
        "\n",
        "With `numpy` we can perform mathematical operations on arrays and matrices.\n"
      ]
    },
    {
      "cell_type": "code",
      "execution_count": null,
      "metadata": {
        "id": "1sJJr_6bpT81"
      },
      "outputs": [],
      "source": [
        "# Import the library\n",
        "import numpy as np"
      ]
    },
    {
      "cell_type": "markdown",
      "metadata": {
        "id": "Y2dv6cIqpT81"
      },
      "source": [
        "We know that summing two lists concatenates them, but we can sum two arrays like vectors and matrices."
      ]
    },
    {
      "cell_type": "code",
      "execution_count": null,
      "metadata": {
        "id": "PBWs3LlQpT81",
        "outputId": "d89b8f08-44a3-4d0a-87c0-acc8286af372"
      },
      "outputs": [
        {
          "name": "stdout",
          "output_type": "stream",
          "text": [
            "Sum of the two lists:\n",
            "[1, 2, 3, 4, 5, 6]\n",
            "Sum of the two arrays:\n",
            "[5 7 9]\n"
          ]
        }
      ],
      "source": [
        "list1 = [1, 2, 3]\n",
        "list2 = [4, 5, 6]\n",
        "\n",
        "# If I sum the two lists, I get a list with concatenated values\n",
        "print(\"Sum of the two lists:\")\n",
        "print(list1 + list2)\n",
        "\n",
        "# I can convert them into numpy arrays and sum them\n",
        "array1 = np.array(list1)\n",
        "array2 = np.array(list2)\n",
        "\n",
        "print(\"Sum of the two arrays:\")\n",
        "print(array1 + array2)"
      ]
    },
    {
      "cell_type": "markdown",
      "metadata": {
        "id": "kZYoMFiSpT81"
      },
      "source": [
        "Let's create an array:\n",
        "- of integers\n",
        "- between 0 and 100\n",
        "- with 10 elements"
      ]
    },
    {
      "cell_type": "code",
      "execution_count": null,
      "metadata": {
        "id": "bl96YWlhpT81",
        "outputId": "97632002-bb0b-4a82-f2d9-d885fe7f3ab5"
      },
      "outputs": [
        {
          "name": "stdout",
          "output_type": "stream",
          "text": [
            "[83 69 28 28 52 91 15 23 68 58]\n"
          ]
        }
      ],
      "source": [
        "# Define a random array of 10 integer elements\n",
        "range_min = 0\n",
        "range_max = 100\n",
        "num_elements = 10\n",
        "random_array = np.random.randint(range_min, range_max, num_elements)\n",
        "\n",
        "# Print the array\n",
        "print(random_array)"
      ]
    },
    {
      "cell_type": "markdown",
      "metadata": {
        "id": "oBJOBMxUpT82"
      },
      "source": [
        "**Tip 🕵**\n",
        "\n",
        "If I don't remember the parameters of a function, I can use Python's `help()` function."
      ]
    },
    {
      "cell_type": "code",
      "execution_count": null,
      "metadata": {
        "id": "Ami3q2vspT82",
        "outputId": "bf86cc12-d89b-497a-cf38-3103b934d602"
      },
      "outputs": [
        {
          "name": "stdout",
          "output_type": "stream",
          "text": [
            "Help on built-in function randint:\n",
            "\n",
            "randint(...) method of numpy.random.mtrand.RandomState instance\n",
            "    randint(low, high=None, size=None, dtype=int)\n",
            "\n",
            "    Return random integers from `low` (inclusive) to `high` (exclusive).\n",
            "\n",
            "    Return random integers from the \"discrete uniform\" distribution of\n",
            "    the specified dtype in the \"half-open\" interval [`low`, `high`). If\n",
            "    `high` is None (the default), then results are from [0, `low`).\n",
            "\n",
            "    .. note::\n",
            "        New code should use the `~numpy.random.Generator.integers`\n",
            "        method of a `~numpy.random.Generator` instance instead;\n",
            "        please see the :ref:`random-quick-start`.\n",
            "\n",
            "    Parameters\n",
            "    ----------\n",
            "    low : int or array-like of ints\n",
            "        Lowest (signed) integers to be drawn from the distribution (unless\n",
            "        ``high=None``, in which case this parameter is one above the\n",
            "        *highest* such integer).\n",
            "    high : int or array-like of ints, optional\n",
            "        If provided, one above the largest (signed) integer to be drawn\n",
            "        from the distribution (see above for behavior if ``high=None``).\n",
            "        If array-like, must contain integer values\n",
            "    size : int or tuple of ints, optional\n",
            "        Output shape.  If the given shape is, e.g., ``(m, n, k)``, then\n",
            "        ``m * n * k`` samples are drawn.  Default is None, in which case a\n",
            "        single value is returned.\n",
            "    dtype : dtype, optional\n",
            "        Desired dtype of the result. Byteorder must be native.\n",
            "        The default value is int.\n",
            "\n",
            "        .. versionadded:: 1.11.0\n",
            "\n",
            "    Returns\n",
            "    -------\n",
            "    out : int or ndarray of ints\n",
            "        `size`-shaped array of random integers from the appropriate\n",
            "        distribution, or a single such random int if `size` not provided.\n",
            "\n",
            "    See Also\n",
            "    --------\n",
            "    random_integers : similar to `randint`, only for the closed\n",
            "        interval [`low`, `high`], and 1 is the lowest value if `high` is\n",
            "        omitted.\n",
            "    random.Generator.integers: which should be used for new code.\n",
            "\n",
            "    Examples\n",
            "    --------\n",
            "    >>> np.random.randint(2, size=10)\n",
            "    array([1, 0, 0, 0, 1, 1, 0, 0, 1, 0]) # random\n",
            "    >>> np.random.randint(1, size=10)\n",
            "    array([0, 0, 0, 0, 0, 0, 0, 0, 0, 0])\n",
            "\n",
            "    Generate a 2 x 4 array of ints between 0 and 4, inclusive:\n",
            "\n",
            "    >>> np.random.randint(5, size=(2, 4))\n",
            "    array([[4, 0, 2, 1], # random\n",
            "           [3, 2, 2, 0]])\n",
            "\n",
            "    Generate a 1 x 3 array with 3 different upper bounds\n",
            "\n",
            "    >>> np.random.randint(1, [3, 5, 10])\n",
            "    array([2, 2, 9]) # random\n",
            "\n",
            "    Generate a 1 by 3 array with 3 different lower bounds\n",
            "\n",
            "    >>> np.random.randint([1, 5, 7], 10)\n",
            "    array([9, 8, 7]) # random\n",
            "\n",
            "    Generate a 2 by 4 array using broadcasting with dtype of uint8\n",
            "\n",
            "    >>> np.random.randint([1, 3, 5, 7], [[10], [20]], dtype=np.uint8)\n",
            "    array([[ 8,  6,  9,  7], # random\n",
            "           [ 1, 16,  9, 12]], dtype=uint8)\n",
            "\n"
          ]
        }
      ],
      "source": [
        "# Let's view the documentation for the function that generates a random array of integers\n",
        "help(np.random.randint)"
      ]
    },
    {
      "cell_type": "markdown",
      "metadata": {
        "id": "eXMFO4CkpT82"
      },
      "source": [
        "Let's create the identity matrix of size 3x3."
      ]
    },
    {
      "cell_type": "code",
      "execution_count": null,
      "metadata": {
        "id": "zxRPjBeIpT82",
        "outputId": "b92c4998-3b5c-4f76-9655-2434e6879b99"
      },
      "outputs": [
        {
          "name": "stdout",
          "output_type": "stream",
          "text": [
            "[[1. 0. 0.]\n",
            " [0. 1. 0.]\n",
            " [0. 0. 1.]]\n"
          ]
        }
      ],
      "source": [
        "identity_matrix = np.eye(3)\n",
        "\n",
        "print(identity_matrix)"
      ]
    },
    {
      "cell_type": "markdown",
      "metadata": {
        "id": "x5mU3EL_pT82"
      },
      "source": [
        "There are also other ways to define matrices:"
      ]
    },
    {
      "cell_type": "code",
      "execution_count": null,
      "metadata": {
        "id": "WITc6MFCpT83",
        "outputId": "cf799b72-1594-42c5-c1a0-cd75e1cee6e1"
      },
      "outputs": [
        {
          "name": "stdout",
          "output_type": "stream",
          "text": [
            "zero_matrix:\n",
            "[[0. 0. 0. 0. 0.]\n",
            " [0. 0. 0. 0. 0.]\n",
            " [0. 0. 0. 0. 0.]]\n",
            "ones_matrix:\n",
            "[[1. 1.]\n",
            " [1. 1.]\n",
            " [1. 1.]\n",
            " [1. 1.]]\n"
          ]
        }
      ],
      "source": [
        "# For example, a zero matrix of size 3x5\n",
        "zero_matrix = np.zeros((3, 5))\n",
        "print(\"zero_matrix:\")\n",
        "print(zero_matrix)\n",
        "\n",
        "# Or a matrix of ones of size 4x2\n",
        "ones_matrix = np.ones((4, 2))\n",
        "print(\"ones_matrix:\")\n",
        "print(ones_matrix)"
      ]
    },
    {
      "cell_type": "markdown",
      "metadata": {
        "id": "cN6FAyIXpT83"
      },
      "source": [
        "You can get the size of vectors and matrices with the `shape` attribute."
      ]
    },
    {
      "cell_type": "code",
      "execution_count": null,
      "metadata": {
        "id": "RgdIJJzmpT83",
        "outputId": "858d8ed6-ad22-4c5e-8dec-64c2ae3ab69e"
      },
      "outputs": [
        {
          "name": "stdout",
          "output_type": "stream",
          "text": [
            "Dimension of zero_matrix: (3, 5)\n"
          ]
        }
      ],
      "source": [
        "matrix_dimension = zero_matrix.shape\n",
        "print(\"Dimension of zero_matrix:\", matrix_dimension)"
      ]
    },
    {
      "cell_type": "markdown",
      "metadata": {
        "id": "45kOTOwupT83"
      },
      "source": [
        "I can also create a matrix of random real numbers"
      ]
    },
    {
      "cell_type": "code",
      "execution_count": null,
      "metadata": {
        "id": "NKfEaRn-pT84",
        "outputId": "658ea2aa-e420-48a4-c3ef-8a520b3333a9"
      },
      "outputs": [
        {
          "name": "stdout",
          "output_type": "stream",
          "text": [
            "[[0.82208637 0.69085458 0.60305962]\n",
            " [0.28441995 0.19864343 0.44142693]\n",
            " [0.26001593 0.07198111 0.5092403 ]]\n"
          ]
        }
      ],
      "source": [
        "random_matrix = np.random.rand(3, 3)\n",
        "print(random_matrix)"
      ]
    },
    {
      "cell_type": "markdown",
      "metadata": {
        "id": "3i_wV3nYpT84"
      },
      "source": [
        "I can create an array of ordered numbers"
      ]
    },
    {
      "cell_type": "code",
      "execution_count": null,
      "metadata": {
        "id": "wZreZizOpT84",
        "outputId": "62234b91-9332-4954-c8e5-644c7d9dfd43"
      },
      "outputs": [
        {
          "name": "stdout",
          "output_type": "stream",
          "text": [
            "[0 1 2 3 4 5 6 7 8]\n"
          ]
        }
      ],
      "source": [
        "ordered_array = np.arange(9)\n",
        "print(ordered_array)"
      ]
    },
    {
      "cell_type": "markdown",
      "metadata": {
        "id": "256C-FBypT84"
      },
      "source": [
        "Modify the array I created so that it becomes a 3x3 matrix"
      ]
    },
    {
      "cell_type": "code",
      "execution_count": null,
      "metadata": {
        "id": "7OnQMnF_pT84",
        "outputId": "13501a22-b515-4953-8c31-95b5e968b179"
      },
      "outputs": [
        {
          "name": "stdout",
          "output_type": "stream",
          "text": [
            "[[0 1 2]\n",
            " [3 4 5]\n",
            " [6 7 8]]\n"
          ]
        }
      ],
      "source": [
        "ordered_matrix = ordered_array.reshape(3, 3)\n",
        "print(ordered_matrix)"
      ]
    },
    {
      "cell_type": "markdown",
      "metadata": {
        "id": "PHMTQFdkpT84"
      },
      "source": [
        "Accessing matrix elements"
      ]
    },
    {
      "cell_type": "code",
      "execution_count": null,
      "metadata": {
        "id": "J_zAmUS_pT84",
        "outputId": "c46de365-e5b6-4037-a0c0-c2a0004ba7d2"
      },
      "outputs": [
        {
          "name": "stdout",
          "output_type": "stream",
          "text": [
            "first row:\n",
            "[0 1 2]\n",
            "first column:\n",
            "[0 3 6]\n"
          ]
        }
      ],
      "source": [
        "print(\"first row:\")\n",
        "print(ordered_matrix[0])\n",
        "\n",
        "print(\"first column:\")\n",
        "print(ordered_matrix[:, 0])"
      ]
    },
    {
      "cell_type": "markdown",
      "metadata": {
        "id": "1JoaDk3-pT85"
      },
      "source": [
        "Assegno dei valori agli elementi della matrice"
      ]
    },
    {
      "cell_type": "code",
      "execution_count": null,
      "metadata": {
        "id": "6R8-8vYTpT85",
        "outputId": "f4b540bd-8f21-454b-c81a-1fcbdba9f8c0"
      },
      "outputs": [
        {
          "name": "stdout",
          "output_type": "stream",
          "text": [
            "original matrix:\n",
            "[[0 1 2]\n",
            " [3 4 5]\n",
            " [6 7 8]]\n",
            "matrix with the first column overwritten with zeros:\n",
            "[[0 1 2]\n",
            " [0 4 5]\n",
            " [0 7 8]]\n"
          ]
        }
      ],
      "source": [
        "ordered_matrix = np.arange(9).reshape(3, 3)\n",
        "\n",
        "print(\"original matrix:\")\n",
        "print(ordered_matrix)\n",
        "\n",
        "print(\"matrix with the first column overwritten with zeros:\")\n",
        "ordered_matrix[:, 0] = 0\n",
        "print(ordered_matrix)"
      ]
    },
    {
      "cell_type": "markdown",
      "metadata": {
        "id": "aMejJxeLpT85"
      },
      "source": [
        "The transpose matrix is simple to obtain:"
      ]
    },
    {
      "cell_type": "code",
      "execution_count": null,
      "metadata": {
        "id": "XBD_oz5kpT85",
        "outputId": "4032366a-bf9f-40f1-c3ab-cc3ea559a7fd"
      },
      "outputs": [
        {
          "name": "stdout",
          "output_type": "stream",
          "text": [
            "original:\n",
            "[[0 1 2]\n",
            " [0 4 5]\n",
            " [0 7 8]]\n",
            "transpose:\n",
            "[[0 0 0]\n",
            " [1 4 7]\n",
            " [2 5 8]]\n"
          ]
        }
      ],
      "source": [
        "# To obtain the transpose, add `.T` to the matrix\n",
        "transpose = ordered_matrix.T\n",
        "\n",
        "print(\"original:\")\n",
        "print(ordered_matrix)\n",
        "\n",
        "print(\"transpose:\")\n",
        "print(transpose)"
      ]
    },
    {
      "cell_type": "markdown",
      "metadata": {
        "id": "SEQJrWNqpT85"
      },
      "source": [
        "Examples of vector operations:"
      ]
    },
    {
      "cell_type": "code",
      "execution_count": null,
      "metadata": {
        "id": "MRr66maKpT85",
        "outputId": "edcf5cdf-f468-4013-b7a9-ee4fd3093345"
      },
      "outputs": [
        {
          "name": "stdout",
          "output_type": "stream",
          "text": [
            "vector1:\n",
            "[1 2 3]\n",
            "vector2:\n",
            "[4 5 6]\n",
            "dot product:\n",
            "32\n",
            "element-wise product:\n",
            "[ 4 10 18]\n",
            "cross product:\n",
            "[-3  6 -3]\n"
          ]
        }
      ],
      "source": [
        "vettore1 = array1\n",
        "vettore2 = array2\n",
        "\n",
        "print(\"vector1:\")\n",
        "print(vettore1)\n",
        "\n",
        "print(\"vector2:\")\n",
        "print(vettore2)\n",
        "\n",
        "print(\"dot product:\")\n",
        "print(vettore1 @ vettore2)\n",
        "\n",
        "print(\"element-wise product:\")\n",
        "print(vettore1 * vettore2)\n",
        "\n",
        "# The cross product is a function in numpy,\n",
        "# `cross` stands for \"cross product\"\n",
        "print(\"cross product:\")\n",
        "print(np.cross(vettore1, vettore2))"
      ]
    },
    {
      "cell_type": "markdown",
      "metadata": {
        "id": "-A9ji35GpT86"
      },
      "source": [
        "Examples of matrix operations:"
      ]
    },
    {
      "cell_type": "code",
      "execution_count": null,
      "metadata": {
        "id": "s5_8-YgWpT86",
        "outputId": "181af995-5392-4da0-959e-1007c1c169e2"
      },
      "outputs": [
        {
          "name": "stdout",
          "output_type": "stream",
          "text": [
            "matrix 1:\n",
            "[[0 1 2]\n",
            " [3 4 5]\n",
            " [6 7 8]]\n",
            "matrix 2:\n",
            "[[2 3 9]\n",
            " [2 7 1]\n",
            " [4 2 8]]\n",
            "sum of the two matrices:\n",
            "[[ 2  4 11]\n",
            " [ 5 11  6]\n",
            " [10  9 16]]\n",
            "matrix product:\n",
            "[[ 10  11  17]\n",
            " [ 34  47  71]\n",
            " [ 58  83 125]]\n",
            "element-wise product:\n",
            "[[ 0  3 18]\n",
            " [ 6 28  5]\n",
            " [24 14 64]]\n"
          ]
        }
      ],
      "source": [
        "mat1 = np.arange(9).reshape(3, 3)\n",
        "mat2 = np.random.randint(0, 10, (3, 3))\n",
        "\n",
        "print(\"matrix 1:\")\n",
        "print(mat1)\n",
        "print(\"matrix 2:\")\n",
        "print(mat2)\n",
        "\n",
        "print(\"sum of the two matrices:\")\n",
        "print(mat1 + mat2)\n",
        "\n",
        "print(\"matrix product:\")\n",
        "print(mat1 @ mat2)\n",
        "\n",
        "print(\"element-wise product:\")\n",
        "print(mat1 * mat2)"
      ]
    },
    {
      "cell_type": "markdown",
      "metadata": {
        "id": "nxfzgUXLpT86"
      },
      "source": [
        "<span style=\"color:red\"><strong>🏋️‍♀️ Exercise</strong></span>\n",
        "\n",
        "Create a 5x5 matrix where each row contains consecutive integers from 1 to 5, with the main diagonal containing zeros, i.e., the trace of the matrix is zero.\n",
        "\n",
        "Check the trace of the matrix using a conditional statement like:\n",
        "\n",
        "```python\n",
        "if np.trace(matrice) == 0:\n",
        "    print(\"The matrix has zero trace\")\n",
        "else:\n",
        "    print(\"The matrix has a trace different from zero\")\n",
        "```"
      ]
    },
    {
      "cell_type": "code",
      "execution_count": null,
      "metadata": {
        "id": "UofF_XVrpT86"
      },
      "outputs": [],
      "source": [
        "# Develop your solution here\n"
      ]
    }
  ],
  "metadata": {
    "kernelspec": {
      "display_name": "capsule",
      "language": "python",
      "name": "python3"
    },
    "language_info": {
      "codemirror_mode": {
        "name": "ipython",
        "version": 3
      },
      "file_extension": ".py",
      "mimetype": "text/x-python",
      "name": "python",
      "nbconvert_exporter": "python",
      "pygments_lexer": "ipython3",
      "version": "3.12.2"
    },
    "colab": {
      "provenance": []
    }
  },
  "nbformat": 4,
  "nbformat_minor": 0
}